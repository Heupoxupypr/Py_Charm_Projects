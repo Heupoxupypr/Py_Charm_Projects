{
 "cells": [
  {
   "cell_type": "markdown",
   "id": "582d1fd5-0219-43a4-87dd-2c527c33582a",
   "metadata": {},
   "source": [
    "## Задача 1\n",
    "### Задача 1.1"
   ]
  },
  {
   "cell_type": "markdown",
   "id": "34029d6d-8b9f-4cf0-9c9f-06ff217f40f3",
   "metadata": {},
   "source": [
    "## Задача 2\n",
    "На складе лежат разные фрукты в разном количестве.\r\n",
    "Нужно написать функцию, которая на вход принимает любое количество названий фруктов и их количество, а возвращает общее количество фруктов на складе\r\n"
   ]
  },
  {
   "cell_type": "code",
   "execution_count": 6,
   "id": "b6d84426-978f-4692-9205-d9e105e8a5fc",
   "metadata": {},
   "outputs": [
    {
     "name": "stdout",
     "output_type": "stream",
     "text": [
      "{'banana': 5, 'mango': 7, 'apple': 8}\n"
     ]
    },
    {
     "data": {
      "text/plain": [
       "20"
      ]
     },
     "execution_count": 6,
     "metadata": {},
     "output_type": "execute_result"
    }
   ],
   "source": [
    "def fruit_sum (**args):\n",
    "    sum = 0\n",
    "    print (args)\n",
    "    for k,v in args.items():\n",
    "        sum+=v\n",
    "    return sum\n",
    "\n",
    "fruit_sum (banana=5, mango=7, apple=8)"
   ]
  },
  {
   "cell_type": "markdown",
   "id": "adbc0f45-6cff-4499-9a3a-ae871b7b0a97",
   "metadata": {},
   "source": [
    "## Задача 3"
   ]
  },
  {
   "cell_type": "markdown",
   "id": "875630a1-6df9-43dd-9535-ed30b234bbcc",
   "metadata": {},
   "source": [
    "Дан список с затратами на рекламу. Но в данных есть ошибки, некоторые затраты имеют отрицательную величину. Удалите такие значения из списка и посчитайте суммарные затраты\r\n",
    "[100, 125, -90, 345, 655, -1, 0, 200]\r\n",
    "Используйте list comprehensions\r\n"
   ]
  },
  {
   "cell_type": "code",
   "execution_count": 11,
   "id": "1727174c-659e-42c0-b675-939580fa3575",
   "metadata": {},
   "outputs": [
    {
     "name": "stdout",
     "output_type": "stream",
     "text": [
      "[100, 125, 345, 655, 200]\n"
     ]
    },
    {
     "data": {
      "text/plain": [
       "1425"
      ]
     },
     "execution_count": 11,
     "metadata": {},
     "output_type": "execute_result"
    }
   ],
   "source": [
    "def advert_cost (cost: list) -> list:\n",
    "    result = [i for i in cost if i > 0]\n",
    "    return result\n",
    "\n",
    "def sum_cost (cost:list) -> int:\n",
    "    return sum(cost)\n",
    "\n",
    "cost = [100, 125, -90, 345, 655, -1, 0, 200]\n",
    "result_cost = advert_cost (cost)\n",
    "print(result_cost)\n",
    "sum_cost(result_cost)"
   ]
  },
  {
   "cell_type": "markdown",
   "id": "5edd370f-f6b5-4e62-957d-f209f2e232f8",
   "metadata": {},
   "source": [
    "## Задача 4"
   ]
  },
  {
   "cell_type": "markdown",
   "id": "39193d31-2e44-4031-98e5-d696add81af4",
   "metadata": {},
   "source": [
    "Даны два списка.\n",
    "\n",
    "Дата покупк\n",
    "\r\n",
    "['2021-09-14', '2021-12-15', '2021-09-08', '2021-12-05', '2021-10-09', '2021-09-30', '2021-12-22', '2021-11-29', '2021-12-24', '2021-11-26', '2021-10-27', '2021-12-18', '2021-11-09', '2021-11-23', '2021-09-27', '2021-10-02', '2021-12-27', '2021-09-20', '2021-12-13', '2021-11-01', '2021-11-09', '2021-12-06', '2021-12-08', '2021-10-09', '2021-10-31', '2021-09-30', '2021-11-09', '2021-12-13', '2021-10-26', '2021-12-0]\n",
    "\n",
    "Суммы покупок по датам\n",
    "\n",
    "[1270, 8413, 9028, 3703, 5739, 4095, 295, 4944, 5723, 3701, 4471, 651, 7037, 4274, 6275, 4988, 6930, 2971, 6592, 2004, 2822, 519, 3406, 2732, 5015, 2008, 316, 6333, 5700, 2887]\n"
   ]
  },
  {
   "cell_type": "markdown",
   "id": "1b4f40ff-f453-4338-92c6-30396c6a319e",
   "metadata": {},
   "source": [
    "### Задача 4.1"
   ]
  },
  {
   "cell_type": "markdown",
   "id": "7d682152-62dd-4cbb-9a38-06faa29bdc1d",
   "metadata": {},
   "source": [
    "Найдите, какая выручка у компании в ноябре\n",
    "\n",
    "Используйте list comprehensions\n"
   ]
  },
  {
   "cell_type": "code",
   "execution_count": 48,
   "id": "957e604e-06fe-47f5-8333-6c2a256f9def",
   "metadata": {},
   "outputs": [
    {
     "data": {
      "text/plain": [
       "25098"
      ]
     },
     "execution_count": 48,
     "metadata": {},
     "output_type": "execute_result"
    }
   ],
   "source": [
    "import datetime\n",
    "\n",
    "pursh_date = ['2021-09-14', '2021-12-15', '2021-09-08', '2021-12-05', '2021-10-09', '2021-09-30',\n",
    "              '2021-12-22', '2021-11-29', '2021-12-24', '2021-11-26', '2021-10-27', '2021-12-18', \n",
    "              '2021-11-09', '2021-11-23', '2021-09-27', '2021-10-02', '2021-12-27', '2021-09-20', \n",
    "              '2021-12-13', '2021-11-01', '2021-11-09', '2021-12-06', '2021-12-08', '2021-10-09', \n",
    "              '2021-10-31', '2021-09-30', '2021-11-09', '2021-12-13', '2021-10-26', '2021-12-09']\n",
    "sum_pursh = [1270, 8413, 9028, 3703, 5739, 4095, 295, 4944, 5723, 3701, 4471, 651, 7037, 4274, 6275, \n",
    "             4988, 6930, 2971, 6592, 2004, 2822, 519, 3406, 2732, 5015, 2008, 316, 6333, 5700, 2887]\n",
    "\n",
    "def get_month_sum(keys: list, values: list, month = 11) -> int:\n",
    "    return sum ([values[i] for i in range(len(keys)) if get_month(keys[i]) == month])\n",
    "\n",
    "def get_month (date):\n",
    "    return datetime.datetime.strptime(date, '%Y-%m-%d').month\n",
    "\n",
    "get_month_sum (pursh_date,sum_pursh)"
   ]
  },
  {
   "cell_type": "markdown",
   "id": "b77f21de-c5e1-451f-a467-8b7d9e0e7a03",
   "metadata": {},
   "source": [
    "### Задача 4.2"
   ]
  },
  {
   "cell_type": "markdown",
   "id": "82b17de4-e4f2-47b3-91dd-875228ba8489",
   "metadata": {},
   "source": [
    "Найдите выручку компании в зависимости от месяца\n",
    "\n",
    "Для этого напишите функцию, которая на вход принимает список с датами и список с выручкой, а на выходе словарь, где\r\n"
   ]
  },
  {
   "cell_type": "code",
   "execution_count": 49,
   "id": "1db76b5c-06a0-4d04-a0b4-7b3e99b09571",
   "metadata": {},
   "outputs": [
    {
     "data": {
      "text/plain": [
       "{9: 25647, 12: 45452, 10: 28645, 11: 25098}"
      ]
     },
     "execution_count": 49,
     "metadata": {},
     "output_type": "execute_result"
    }
   ],
   "source": [
    "def get_dict_month_sum(keys: list, values: list) -> dict:\n",
    "    d1 = dict()\n",
    "    for i in range(len(keys)):\n",
    "        month = get_month (keys[i])\n",
    "        if month in d1:\n",
    "           d1[month]+=values[i]\n",
    "        else:\n",
    "            d1[month]=values[i]\n",
    "    \n",
    "    return d1\n",
    "\n",
    "get_dict_month_sum (pursh_date,sum_pursh)"
   ]
  }
 ],
 "metadata": {
  "kernelspec": {
   "display_name": "Python 3 (ipykernel)",
   "language": "python",
   "name": "python3"
  },
  "language_info": {
   "codemirror_mode": {
    "name": "ipython",
    "version": 3
   },
   "file_extension": ".py",
   "mimetype": "text/x-python",
   "name": "python",
   "nbconvert_exporter": "python",
   "pygments_lexer": "ipython3",
   "version": "3.10.11"
  }
 },
 "nbformat": 4,
 "nbformat_minor": 5
}
