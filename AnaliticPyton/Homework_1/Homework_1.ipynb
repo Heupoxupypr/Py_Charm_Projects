{
 "cells": [
  {
   "cell_type": "markdown",
   "id": "582d1fd5-0219-43a4-87dd-2c527c33582a",
   "metadata": {},
   "source": [
    "## Задача 1\n",
    "### Задача 1.1"
   ]
  },
  {
   "cell_type": "markdown",
   "id": "34029d6d-8b9f-4cf0-9c9f-06ff217f40f3",
   "metadata": {},
   "source": [
    "## Задача 2\n",
    "На складе лежат разные фрукты в разном количестве.\r\n",
    "Нужно написать функцию, которая на вход принимает любое количество названий фруктов и их количество, а возвращает общее количество фруктов на складе\r\n"
   ]
  }
 ],
 "metadata": {
  "kernelspec": {
   "display_name": "Python 3 (ipykernel)",
   "language": "python",
   "name": "python3"
  },
  "language_info": {
   "codemirror_mode": {
    "name": "ipython",
    "version": 3
   },
   "file_extension": ".py",
   "mimetype": "text/x-python",
   "name": "python",
   "nbconvert_exporter": "python",
   "pygments_lexer": "ipython3",
   "version": "3.10.11"
  }
 },
 "nbformat": 4,
 "nbformat_minor": 5
}
