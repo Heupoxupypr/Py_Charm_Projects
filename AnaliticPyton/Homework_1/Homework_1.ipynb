{
 "cells": [
  {
   "cell_type": "markdown",
   "id": "582d1fd5-0219-43a4-87dd-2c527c33582a",
   "metadata": {},
   "source": [
    "## Задача 1\n",
    "### Задача 1.1"
   ]
  },
  {
   "cell_type": "markdown",
   "id": "34029d6d-8b9f-4cf0-9c9f-06ff217f40f3",
   "metadata": {},
   "source": [
    "## Задача 2\n",
    "На складе лежат разные фрукты в разном количестве.\r\n",
    "Нужно написать функцию, которая на вход принимает любое количество названий фруктов и их количество, а возвращает общее количество фруктов на складе\r\n"
   ]
  },
  {
   "cell_type": "code",
   "execution_count": 6,
   "id": "b6d84426-978f-4692-9205-d9e105e8a5fc",
   "metadata": {},
   "outputs": [
    {
     "name": "stdout",
     "output_type": "stream",
     "text": [
      "{'banana': 5, 'mango': 7, 'apple': 8}\n"
     ]
    },
    {
     "data": {
      "text/plain": [
       "20"
      ]
     },
     "execution_count": 6,
     "metadata": {},
     "output_type": "execute_result"
    }
   ],
   "source": [
    "def fruit_sum (**args):\n",
    "    sum = 0\n",
    "    print (args)\n",
    "    for k,v in args.items():\n",
    "        sum+=v\n",
    "    return sum\n",
    "\n",
    "fruit_sum (banana=5, mango=7, apple=8)"
   ]
  },
  {
   "cell_type": "markdown",
   "id": "adbc0f45-6cff-4499-9a3a-ae871b7b0a97",
   "metadata": {},
   "source": [
    "# Задача 3"
   ]
  },
  {
   "cell_type": "markdown",
   "id": "875630a1-6df9-43dd-9535-ed30b234bbcc",
   "metadata": {},
   "source": [
    "Дан список с затратами на рекламу. Но в данных есть ошибки, некоторые затраты имеют отрицательную величину. Удалите такие значения из списка и посчитайте суммарные затраты\r\n",
    "[100, 125, -90, 345, 655, -1, 0, 200]\r\n",
    "Используйте list comprehensions\r\n"
   ]
  },
  {
   "cell_type": "code",
   "execution_count": 11,
   "id": "1727174c-659e-42c0-b675-939580fa3575",
   "metadata": {},
   "outputs": [
    {
     "name": "stdout",
     "output_type": "stream",
     "text": [
      "[100, 125, 345, 655, 200]\n"
     ]
    },
    {
     "data": {
      "text/plain": [
       "1425"
      ]
     },
     "execution_count": 11,
     "metadata": {},
     "output_type": "execute_result"
    }
   ],
   "source": [
    "def advert_cost (cost: list) -> list:\n",
    "    result = [i for i in cost if i > 0]\n",
    "    return result\n",
    "\n",
    "def sum_cost (cost:list) -> int:\n",
    "    return sum(cost)\n",
    "\n",
    "cost = [100, 125, -90, 345, 655, -1, 0, 200]\n",
    "result_cost = advert_cost (cost)\n",
    "print(result_cost)\n",
    "sum_cost(result_cost)"
   ]
  }
 ],
 "metadata": {
  "kernelspec": {
   "display_name": "Python 3 (ipykernel)",
   "language": "python",
   "name": "python3"
  },
  "language_info": {
   "codemirror_mode": {
    "name": "ipython",
    "version": 3
   },
   "file_extension": ".py",
   "mimetype": "text/x-python",
   "name": "python",
   "nbconvert_exporter": "python",
   "pygments_lexer": "ipython3",
   "version": "3.10.11"
  }
 },
 "nbformat": 4,
 "nbformat_minor": 5
}
