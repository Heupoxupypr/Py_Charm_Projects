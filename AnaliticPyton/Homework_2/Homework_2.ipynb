{
 "cells": [
  {
   "cell_type": "markdown",
   "id": "04dbefa6-5de9-41e2-bc11-1ef95d31cbda",
   "metadata": {},
   "source": [
    "# Домашняя работа 2"
   ]
  },
  {
   "cell_type": "markdown",
   "id": "3be807e2-9449-4222-abfa-772aaceea56e",
   "metadata": {},
   "source": [
    "***"
   ]
  },
  {
   "cell_type": "markdown",
   "id": "87e3ad17-a120-4f42-9fcc-0a31e30483ba",
   "metadata": {},
   "source": [
    "## Задание 1"
   ]
  },
  {
   "cell_type": "markdown",
   "id": "e7fc7ad5-7de5-4cbd-9afd-c7652ecf52f1",
   "metadata": {},
   "source": [
    "Скачать данные\n",
    "\n",
    "Считать данные с помощь  pandas\n",
    "\r\n",
    "Вывести на экран первые строк\n",
    "Посмотреть на описание признаков и на их содержаниеие\r\n"
   ]
  },
  {
   "cell_type": "code",
   "execution_count": 6,
   "id": "a40fc2b1-583f-4613-85c6-04e512024102",
   "metadata": {},
   "outputs": [
    {
     "data": {
      "text/html": [
       "<div>\n",
       "<style scoped>\n",
       "    .dataframe tbody tr th:only-of-type {\n",
       "        vertical-align: middle;\n",
       "    }\n",
       "\n",
       "    .dataframe tbody tr th {\n",
       "        vertical-align: top;\n",
       "    }\n",
       "\n",
       "    .dataframe thead th {\n",
       "        text-align: right;\n",
       "    }\n",
       "</style>\n",
       "<table border=\"1\" class=\"dataframe\">\n",
       "  <thead>\n",
       "    <tr style=\"text-align: right;\">\n",
       "      <th></th>\n",
       "      <th>id</th>\n",
       "      <th>date</th>\n",
       "      <th>price</th>\n",
       "      <th>bedrooms</th>\n",
       "      <th>bathrooms</th>\n",
       "      <th>sqft_living</th>\n",
       "      <th>sqft_lot</th>\n",
       "      <th>floors</th>\n",
       "      <th>waterfront</th>\n",
       "      <th>view</th>\n",
       "      <th>...</th>\n",
       "      <th>grade</th>\n",
       "      <th>sqft_above</th>\n",
       "      <th>sqft_basement</th>\n",
       "      <th>yr_built</th>\n",
       "      <th>yr_renovated</th>\n",
       "      <th>zipcode</th>\n",
       "      <th>lat</th>\n",
       "      <th>long</th>\n",
       "      <th>sqft_living15</th>\n",
       "      <th>sqft_lot15</th>\n",
       "    </tr>\n",
       "  </thead>\n",
       "  <tbody>\n",
       "    <tr>\n",
       "      <th>0</th>\n",
       "      <td>7129300520</td>\n",
       "      <td>20141013T000000</td>\n",
       "      <td>221900.0</td>\n",
       "      <td>3</td>\n",
       "      <td>1.00</td>\n",
       "      <td>1180</td>\n",
       "      <td>5650</td>\n",
       "      <td>1.0</td>\n",
       "      <td>0</td>\n",
       "      <td>0</td>\n",
       "      <td>...</td>\n",
       "      <td>7</td>\n",
       "      <td>1180</td>\n",
       "      <td>0</td>\n",
       "      <td>1955</td>\n",
       "      <td>0</td>\n",
       "      <td>98178</td>\n",
       "      <td>47.5112</td>\n",
       "      <td>-122.257</td>\n",
       "      <td>1340</td>\n",
       "      <td>5650</td>\n",
       "    </tr>\n",
       "    <tr>\n",
       "      <th>1</th>\n",
       "      <td>6414100192</td>\n",
       "      <td>20141209T000000</td>\n",
       "      <td>538000.0</td>\n",
       "      <td>3</td>\n",
       "      <td>2.25</td>\n",
       "      <td>2570</td>\n",
       "      <td>7242</td>\n",
       "      <td>2.0</td>\n",
       "      <td>0</td>\n",
       "      <td>0</td>\n",
       "      <td>...</td>\n",
       "      <td>7</td>\n",
       "      <td>2170</td>\n",
       "      <td>400</td>\n",
       "      <td>1951</td>\n",
       "      <td>1991</td>\n",
       "      <td>98125</td>\n",
       "      <td>47.7210</td>\n",
       "      <td>-122.319</td>\n",
       "      <td>1690</td>\n",
       "      <td>7639</td>\n",
       "    </tr>\n",
       "    <tr>\n",
       "      <th>2</th>\n",
       "      <td>5631500400</td>\n",
       "      <td>20150225T000000</td>\n",
       "      <td>180000.0</td>\n",
       "      <td>2</td>\n",
       "      <td>1.00</td>\n",
       "      <td>770</td>\n",
       "      <td>10000</td>\n",
       "      <td>1.0</td>\n",
       "      <td>0</td>\n",
       "      <td>0</td>\n",
       "      <td>...</td>\n",
       "      <td>6</td>\n",
       "      <td>770</td>\n",
       "      <td>0</td>\n",
       "      <td>1933</td>\n",
       "      <td>0</td>\n",
       "      <td>98028</td>\n",
       "      <td>47.7379</td>\n",
       "      <td>-122.233</td>\n",
       "      <td>2720</td>\n",
       "      <td>8062</td>\n",
       "    </tr>\n",
       "    <tr>\n",
       "      <th>3</th>\n",
       "      <td>2487200875</td>\n",
       "      <td>20141209T000000</td>\n",
       "      <td>604000.0</td>\n",
       "      <td>4</td>\n",
       "      <td>3.00</td>\n",
       "      <td>1960</td>\n",
       "      <td>5000</td>\n",
       "      <td>1.0</td>\n",
       "      <td>0</td>\n",
       "      <td>0</td>\n",
       "      <td>...</td>\n",
       "      <td>7</td>\n",
       "      <td>1050</td>\n",
       "      <td>910</td>\n",
       "      <td>1965</td>\n",
       "      <td>0</td>\n",
       "      <td>98136</td>\n",
       "      <td>47.5208</td>\n",
       "      <td>-122.393</td>\n",
       "      <td>1360</td>\n",
       "      <td>5000</td>\n",
       "    </tr>\n",
       "    <tr>\n",
       "      <th>4</th>\n",
       "      <td>1954400510</td>\n",
       "      <td>20150218T000000</td>\n",
       "      <td>510000.0</td>\n",
       "      <td>3</td>\n",
       "      <td>2.00</td>\n",
       "      <td>1680</td>\n",
       "      <td>8080</td>\n",
       "      <td>1.0</td>\n",
       "      <td>0</td>\n",
       "      <td>0</td>\n",
       "      <td>...</td>\n",
       "      <td>8</td>\n",
       "      <td>1680</td>\n",
       "      <td>0</td>\n",
       "      <td>1987</td>\n",
       "      <td>0</td>\n",
       "      <td>98074</td>\n",
       "      <td>47.6168</td>\n",
       "      <td>-122.045</td>\n",
       "      <td>1800</td>\n",
       "      <td>7503</td>\n",
       "    </tr>\n",
       "  </tbody>\n",
       "</table>\n",
       "<p>5 rows × 21 columns</p>\n",
       "</div>"
      ],
      "text/plain": [
       "           id             date     price  bedrooms  bathrooms  sqft_living   \n",
       "0  7129300520  20141013T000000  221900.0         3       1.00         1180  \\\n",
       "1  6414100192  20141209T000000  538000.0         3       2.25         2570   \n",
       "2  5631500400  20150225T000000  180000.0         2       1.00          770   \n",
       "3  2487200875  20141209T000000  604000.0         4       3.00         1960   \n",
       "4  1954400510  20150218T000000  510000.0         3       2.00         1680   \n",
       "\n",
       "   sqft_lot  floors  waterfront  view  ...  grade  sqft_above  sqft_basement   \n",
       "0      5650     1.0           0     0  ...      7        1180              0  \\\n",
       "1      7242     2.0           0     0  ...      7        2170            400   \n",
       "2     10000     1.0           0     0  ...      6         770              0   \n",
       "3      5000     1.0           0     0  ...      7        1050            910   \n",
       "4      8080     1.0           0     0  ...      8        1680              0   \n",
       "\n",
       "   yr_built  yr_renovated  zipcode      lat     long  sqft_living15   \n",
       "0      1955             0    98178  47.5112 -122.257           1340  \\\n",
       "1      1951          1991    98125  47.7210 -122.319           1690   \n",
       "2      1933             0    98028  47.7379 -122.233           2720   \n",
       "3      1965             0    98136  47.5208 -122.393           1360   \n",
       "4      1987             0    98074  47.6168 -122.045           1800   \n",
       "\n",
       "   sqft_lot15  \n",
       "0        5650  \n",
       "1        7639  \n",
       "2        8062  \n",
       "3        5000  \n",
       "4        7503  \n",
       "\n",
       "[5 rows x 21 columns]"
      ]
     },
     "execution_count": 6,
     "metadata": {},
     "output_type": "execute_result"
    }
   ],
   "source": [
    "import pandas as pd\n",
    "\n",
    "df = pd.read_csv(\"kc-house-data.csv\")\n",
    "\n",
    "df.head()"
   ]
  },
  {
   "cell_type": "markdown",
   "id": "f22e5e30-37fd-44e6-af6e-a86cf15fde49",
   "metadata": {},
   "source": [
    "***"
   ]
  },
  {
   "cell_type": "markdown",
   "id": "ebfc2a98-8399-45a6-93d8-c032aa41f5bf",
   "metadata": {},
   "source": [
    "## Задание 2"
   ]
  },
  {
   "cell_type": "markdown",
   "id": "3eeb1f3e-f52b-4879-b6ef-d449472321b0",
   "metadata": {},
   "source": [
    "Проведите первичный анализ данных\r\n",
    "Изучите типы данных\r\n",
    "Найдите количество пропущенных ячеек в данных\r\n",
    "Посчитайте основные статистики по всем признакам и поизучайте их\r\n",
    "Пишите выводы\r\n"
   ]
  },
  {
   "cell_type": "code",
   "execution_count": 9,
   "id": "d9f3dea8-3c7e-4b91-b8aa-a87a3815c8f4",
   "metadata": {},
   "outputs": [
    {
     "name": "stdout",
     "output_type": "stream",
     "text": [
      "<class 'pandas.core.frame.DataFrame'>\n",
      "RangeIndex: 21613 entries, 0 to 21612\n",
      "Data columns (total 21 columns):\n",
      " #   Column         Non-Null Count  Dtype  \n",
      "---  ------         --------------  -----  \n",
      " 0   id             21613 non-null  int64  \n",
      " 1   date           21613 non-null  object \n",
      " 2   price          21613 non-null  float64\n",
      " 3   bedrooms       21613 non-null  int64  \n",
      " 4   bathrooms      21613 non-null  float64\n",
      " 5   sqft_living    21613 non-null  int64  \n",
      " 6   sqft_lot       21613 non-null  int64  \n",
      " 7   floors         21613 non-null  float64\n",
      " 8   waterfront     21613 non-null  int64  \n",
      " 9   view           21613 non-null  int64  \n",
      " 10  condition      21613 non-null  int64  \n",
      " 11  grade          21613 non-null  int64  \n",
      " 12  sqft_above     21613 non-null  int64  \n",
      " 13  sqft_basement  21613 non-null  int64  \n",
      " 14  yr_built       21613 non-null  int64  \n",
      " 15  yr_renovated   21613 non-null  int64  \n",
      " 16  zipcode        21613 non-null  int64  \n",
      " 17  lat            21613 non-null  float64\n",
      " 18  long           21613 non-null  float64\n",
      " 19  sqft_living15  21613 non-null  int64  \n",
      " 20  sqft_lot15     21613 non-null  int64  \n",
      "dtypes: float64(5), int64(15), object(1)\n",
      "memory usage: 3.5+ MB\n"
     ]
    }
   ],
   "source": [
    "df.info()"
   ]
  },
  {
   "cell_type": "markdown",
   "id": "a43f784d-1f4c-4bfa-bd15-bdf57e20c624",
   "metadata": {},
   "source": [
    "В таблице 2613 строк данных по 20 столбцов (не считая первый id)\n",
    "Данные в основном в числовом формате кроме столбца date (потребуется переформатирование данных)\n",
    "Пропущеные ячейки отсутствуют"
   ]
  },
  {
   "cell_type": "code",
   "execution_count": 15,
   "id": "2db3b9bb-4686-4938-9e4b-f3a03d9ba107",
   "metadata": {},
   "outputs": [
    {
     "data": {
      "text/html": [
       "<div>\n",
       "<style scoped>\n",
       "    .dataframe tbody tr th:only-of-type {\n",
       "        vertical-align: middle;\n",
       "    }\n",
       "\n",
       "    .dataframe tbody tr th {\n",
       "        vertical-align: top;\n",
       "    }\n",
       "\n",
       "    .dataframe thead th {\n",
       "        text-align: right;\n",
       "    }\n",
       "</style>\n",
       "<table border=\"1\" class=\"dataframe\">\n",
       "  <thead>\n",
       "    <tr style=\"text-align: right;\">\n",
       "      <th></th>\n",
       "      <th>id</th>\n",
       "      <th>price</th>\n",
       "      <th>bedrooms</th>\n",
       "      <th>bathrooms</th>\n",
       "      <th>sqft_living</th>\n",
       "      <th>sqft_lot</th>\n",
       "      <th>floors</th>\n",
       "      <th>waterfront</th>\n",
       "      <th>view</th>\n",
       "      <th>condition</th>\n",
       "      <th>grade</th>\n",
       "      <th>sqft_above</th>\n",
       "      <th>sqft_basement</th>\n",
       "      <th>yr_built</th>\n",
       "      <th>yr_renovated</th>\n",
       "      <th>zipcode</th>\n",
       "      <th>lat</th>\n",
       "      <th>long</th>\n",
       "      <th>sqft_living15</th>\n",
       "      <th>sqft_lot15</th>\n",
       "    </tr>\n",
       "  </thead>\n",
       "  <tbody>\n",
       "    <tr>\n",
       "      <th>count</th>\n",
       "      <td>2.161300e+04</td>\n",
       "      <td>2.161300e+04</td>\n",
       "      <td>21613.000000</td>\n",
       "      <td>21613.000000</td>\n",
       "      <td>21613.000000</td>\n",
       "      <td>2.161300e+04</td>\n",
       "      <td>21613.000000</td>\n",
       "      <td>21613.000000</td>\n",
       "      <td>21613.000000</td>\n",
       "      <td>21613.000000</td>\n",
       "      <td>21613.000000</td>\n",
       "      <td>21613.000000</td>\n",
       "      <td>21613.000000</td>\n",
       "      <td>21613.000000</td>\n",
       "      <td>21613.000000</td>\n",
       "      <td>21613.000000</td>\n",
       "      <td>21613.000000</td>\n",
       "      <td>21613.000000</td>\n",
       "      <td>21613.000000</td>\n",
       "      <td>21613.000000</td>\n",
       "    </tr>\n",
       "    <tr>\n",
       "      <th>mean</th>\n",
       "      <td>4.580302e+09</td>\n",
       "      <td>5.400881e+05</td>\n",
       "      <td>3.370842</td>\n",
       "      <td>2.114757</td>\n",
       "      <td>2079.899736</td>\n",
       "      <td>1.510697e+04</td>\n",
       "      <td>1.494309</td>\n",
       "      <td>0.007542</td>\n",
       "      <td>0.234303</td>\n",
       "      <td>3.409430</td>\n",
       "      <td>7.656873</td>\n",
       "      <td>1788.390691</td>\n",
       "      <td>291.509045</td>\n",
       "      <td>1971.005136</td>\n",
       "      <td>84.402258</td>\n",
       "      <td>98077.939805</td>\n",
       "      <td>47.560053</td>\n",
       "      <td>-122.213896</td>\n",
       "      <td>1986.552492</td>\n",
       "      <td>12768.455652</td>\n",
       "    </tr>\n",
       "    <tr>\n",
       "      <th>std</th>\n",
       "      <td>2.876566e+09</td>\n",
       "      <td>3.671272e+05</td>\n",
       "      <td>0.930062</td>\n",
       "      <td>0.770163</td>\n",
       "      <td>918.440897</td>\n",
       "      <td>4.142051e+04</td>\n",
       "      <td>0.539989</td>\n",
       "      <td>0.086517</td>\n",
       "      <td>0.766318</td>\n",
       "      <td>0.650743</td>\n",
       "      <td>1.175459</td>\n",
       "      <td>828.090978</td>\n",
       "      <td>442.575043</td>\n",
       "      <td>29.373411</td>\n",
       "      <td>401.679240</td>\n",
       "      <td>53.505026</td>\n",
       "      <td>0.138564</td>\n",
       "      <td>0.140828</td>\n",
       "      <td>685.391304</td>\n",
       "      <td>27304.179631</td>\n",
       "    </tr>\n",
       "    <tr>\n",
       "      <th>min</th>\n",
       "      <td>1.000102e+06</td>\n",
       "      <td>7.500000e+04</td>\n",
       "      <td>0.000000</td>\n",
       "      <td>0.000000</td>\n",
       "      <td>290.000000</td>\n",
       "      <td>5.200000e+02</td>\n",
       "      <td>1.000000</td>\n",
       "      <td>0.000000</td>\n",
       "      <td>0.000000</td>\n",
       "      <td>1.000000</td>\n",
       "      <td>1.000000</td>\n",
       "      <td>290.000000</td>\n",
       "      <td>0.000000</td>\n",
       "      <td>1900.000000</td>\n",
       "      <td>0.000000</td>\n",
       "      <td>98001.000000</td>\n",
       "      <td>47.155900</td>\n",
       "      <td>-122.519000</td>\n",
       "      <td>399.000000</td>\n",
       "      <td>651.000000</td>\n",
       "    </tr>\n",
       "    <tr>\n",
       "      <th>25%</th>\n",
       "      <td>2.123049e+09</td>\n",
       "      <td>3.219500e+05</td>\n",
       "      <td>3.000000</td>\n",
       "      <td>1.750000</td>\n",
       "      <td>1427.000000</td>\n",
       "      <td>5.040000e+03</td>\n",
       "      <td>1.000000</td>\n",
       "      <td>0.000000</td>\n",
       "      <td>0.000000</td>\n",
       "      <td>3.000000</td>\n",
       "      <td>7.000000</td>\n",
       "      <td>1190.000000</td>\n",
       "      <td>0.000000</td>\n",
       "      <td>1951.000000</td>\n",
       "      <td>0.000000</td>\n",
       "      <td>98033.000000</td>\n",
       "      <td>47.471000</td>\n",
       "      <td>-122.328000</td>\n",
       "      <td>1490.000000</td>\n",
       "      <td>5100.000000</td>\n",
       "    </tr>\n",
       "    <tr>\n",
       "      <th>50%</th>\n",
       "      <td>3.904930e+09</td>\n",
       "      <td>4.500000e+05</td>\n",
       "      <td>3.000000</td>\n",
       "      <td>2.250000</td>\n",
       "      <td>1910.000000</td>\n",
       "      <td>7.618000e+03</td>\n",
       "      <td>1.500000</td>\n",
       "      <td>0.000000</td>\n",
       "      <td>0.000000</td>\n",
       "      <td>3.000000</td>\n",
       "      <td>7.000000</td>\n",
       "      <td>1560.000000</td>\n",
       "      <td>0.000000</td>\n",
       "      <td>1975.000000</td>\n",
       "      <td>0.000000</td>\n",
       "      <td>98065.000000</td>\n",
       "      <td>47.571800</td>\n",
       "      <td>-122.230000</td>\n",
       "      <td>1840.000000</td>\n",
       "      <td>7620.000000</td>\n",
       "    </tr>\n",
       "    <tr>\n",
       "      <th>75%</th>\n",
       "      <td>7.308900e+09</td>\n",
       "      <td>6.450000e+05</td>\n",
       "      <td>4.000000</td>\n",
       "      <td>2.500000</td>\n",
       "      <td>2550.000000</td>\n",
       "      <td>1.068800e+04</td>\n",
       "      <td>2.000000</td>\n",
       "      <td>0.000000</td>\n",
       "      <td>0.000000</td>\n",
       "      <td>4.000000</td>\n",
       "      <td>8.000000</td>\n",
       "      <td>2210.000000</td>\n",
       "      <td>560.000000</td>\n",
       "      <td>1997.000000</td>\n",
       "      <td>0.000000</td>\n",
       "      <td>98118.000000</td>\n",
       "      <td>47.678000</td>\n",
       "      <td>-122.125000</td>\n",
       "      <td>2360.000000</td>\n",
       "      <td>10083.000000</td>\n",
       "    </tr>\n",
       "    <tr>\n",
       "      <th>max</th>\n",
       "      <td>9.900000e+09</td>\n",
       "      <td>7.700000e+06</td>\n",
       "      <td>33.000000</td>\n",
       "      <td>8.000000</td>\n",
       "      <td>13540.000000</td>\n",
       "      <td>1.651359e+06</td>\n",
       "      <td>3.500000</td>\n",
       "      <td>1.000000</td>\n",
       "      <td>4.000000</td>\n",
       "      <td>5.000000</td>\n",
       "      <td>13.000000</td>\n",
       "      <td>9410.000000</td>\n",
       "      <td>4820.000000</td>\n",
       "      <td>2015.000000</td>\n",
       "      <td>2015.000000</td>\n",
       "      <td>98199.000000</td>\n",
       "      <td>47.777600</td>\n",
       "      <td>-121.315000</td>\n",
       "      <td>6210.000000</td>\n",
       "      <td>871200.000000</td>\n",
       "    </tr>\n",
       "  </tbody>\n",
       "</table>\n",
       "</div>"
      ],
      "text/plain": [
       "                 id         price      bedrooms     bathrooms   sqft_living   \n",
       "count  2.161300e+04  2.161300e+04  21613.000000  21613.000000  21613.000000  \\\n",
       "mean   4.580302e+09  5.400881e+05      3.370842      2.114757   2079.899736   \n",
       "std    2.876566e+09  3.671272e+05      0.930062      0.770163    918.440897   \n",
       "min    1.000102e+06  7.500000e+04      0.000000      0.000000    290.000000   \n",
       "25%    2.123049e+09  3.219500e+05      3.000000      1.750000   1427.000000   \n",
       "50%    3.904930e+09  4.500000e+05      3.000000      2.250000   1910.000000   \n",
       "75%    7.308900e+09  6.450000e+05      4.000000      2.500000   2550.000000   \n",
       "max    9.900000e+09  7.700000e+06     33.000000      8.000000  13540.000000   \n",
       "\n",
       "           sqft_lot        floors    waterfront          view     condition   \n",
       "count  2.161300e+04  21613.000000  21613.000000  21613.000000  21613.000000  \\\n",
       "mean   1.510697e+04      1.494309      0.007542      0.234303      3.409430   \n",
       "std    4.142051e+04      0.539989      0.086517      0.766318      0.650743   \n",
       "min    5.200000e+02      1.000000      0.000000      0.000000      1.000000   \n",
       "25%    5.040000e+03      1.000000      0.000000      0.000000      3.000000   \n",
       "50%    7.618000e+03      1.500000      0.000000      0.000000      3.000000   \n",
       "75%    1.068800e+04      2.000000      0.000000      0.000000      4.000000   \n",
       "max    1.651359e+06      3.500000      1.000000      4.000000      5.000000   \n",
       "\n",
       "              grade    sqft_above  sqft_basement      yr_built  yr_renovated   \n",
       "count  21613.000000  21613.000000   21613.000000  21613.000000  21613.000000  \\\n",
       "mean       7.656873   1788.390691     291.509045   1971.005136     84.402258   \n",
       "std        1.175459    828.090978     442.575043     29.373411    401.679240   \n",
       "min        1.000000    290.000000       0.000000   1900.000000      0.000000   \n",
       "25%        7.000000   1190.000000       0.000000   1951.000000      0.000000   \n",
       "50%        7.000000   1560.000000       0.000000   1975.000000      0.000000   \n",
       "75%        8.000000   2210.000000     560.000000   1997.000000      0.000000   \n",
       "max       13.000000   9410.000000    4820.000000   2015.000000   2015.000000   \n",
       "\n",
       "            zipcode           lat          long  sqft_living15     sqft_lot15  \n",
       "count  21613.000000  21613.000000  21613.000000   21613.000000   21613.000000  \n",
       "mean   98077.939805     47.560053   -122.213896    1986.552492   12768.455652  \n",
       "std       53.505026      0.138564      0.140828     685.391304   27304.179631  \n",
       "min    98001.000000     47.155900   -122.519000     399.000000     651.000000  \n",
       "25%    98033.000000     47.471000   -122.328000    1490.000000    5100.000000  \n",
       "50%    98065.000000     47.571800   -122.230000    1840.000000    7620.000000  \n",
       "75%    98118.000000     47.678000   -122.125000    2360.000000   10083.000000  \n",
       "max    98199.000000     47.777600   -121.315000    6210.000000  871200.000000  "
      ]
     },
     "execution_count": 15,
     "metadata": {},
     "output_type": "execute_result"
    }
   ],
   "source": [
    "df.describe()"
   ]
  },
  {
   "cell_type": "markdown",
   "id": "a95a3b46-a5a1-49ab-9f1b-6d6d9543f144",
   "metadata": {},
   "source": [
    "Средняя цена дома 540 000  \n",
    "Минимальная цена 75 000  \n",
    "Максимальная цена 7 700 000  \n",
    "В домах в среднем по 3 спальни и 2 кухни  \n",
    "Средняя жилая площадь 2 080 кв. футов   \n",
    "Средняя общая площадь 15 100 квю футов  \n",
    "Этажность:    \n",
    "-     Минимальная 1\n",
    "-     Максимальная 3.5  \n",
    "Год постройки:  \n",
    "*     самый ранний 1900  \n",
    "*     самый поздний 2015\n",
    "***"
   ]
  },
  {
   "cell_type": "markdown",
   "id": "acf9a5b4-71e5-4d9b-b23d-6a253c1c6ecc",
   "metadata": {},
   "source": [
    "## Задание 3"
   ]
  },
  {
   "cell_type": "markdown",
   "id": "c7213efd-e06a-4a88-bcdc-842437239344",
   "metadata": {},
   "source": [
    "Ответьте на несколько вопросов  \r\n",
    "3.1 В каком диапазоне изменяются стоимости недвижимости  ?\r\n",
    "3.2 Какую долю в среднем занимают жилая площадь от всей площади по всем дома  м?\r\n",
    "3.3 Как много домов с разными этажами в данн  ых?\r\n",
    "3.4 Насколько хорошие состояния у домов в дан  ных?\r\n",
    "3.5 Найдите года, когда построили первый дом, когда построили последний дом в да ных?\r\n"
   ]
  },
  {
   "cell_type": "markdown",
   "id": "2f0269ac-5c99-4efb-9903-1d14387c28fe",
   "metadata": {},
   "source": [
    "### Задание 3.1"
   ]
  },
  {
   "cell_type": "markdown",
   "id": "4a744ce1-51c6-46d4-9bd0-29cbb40eea81",
   "metadata": {},
   "source": [
    " В каком диапазоне изменяются стоимости недвижимости ?\n"
   ]
  },
  {
   "cell_type": "code",
   "execution_count": 18,
   "id": "832157be-db70-405e-9f7c-24d6cd57cdf3",
   "metadata": {},
   "outputs": [
    {
     "data": {
      "text/plain": [
       "(75000.0, 7700000.0)"
      ]
     },
     "execution_count": 18,
     "metadata": {},
     "output_type": "execute_result"
    }
   ],
   "source": [
    "df[\"price\"].min(),df[\"price\"].max()"
   ]
  },
  {
   "cell_type": "markdown",
   "id": "7b951730-23dd-4c66-af3a-7a596c813645",
   "metadata": {},
   "source": [
    "Диапазон цен на недвижимость от 75000 до 7700000  \n",
    "***"
   ]
  },
  {
   "cell_type": "markdown",
   "id": "65f0d7cc-fd35-4fe1-afd0-871ee864a329",
   "metadata": {},
   "source": [
    "### Задание 3.2"
   ]
  },
  {
   "cell_type": "markdown",
   "id": "295c62f9-d8aa-4509-99e0-8f8949f64ea4",
   "metadata": {},
   "source": [
    "Какую долю в среднем занимают жилая площадь от всей площади по всем домам?"
   ]
  },
  {
   "cell_type": "code",
   "execution_count": 25,
   "id": "4f2201cb-4b10-4929-b6b2-003663cdcaa4",
   "metadata": {},
   "outputs": [
    {
     "data": {
      "text/plain": [
       "15106.967565816869"
      ]
     },
     "execution_count": 25,
     "metadata": {},
     "output_type": "execute_result"
    }
   ],
   "source": [
    "df[\"sqft_living\"].mean() / df[\"sqft_lot\"].mean() * 100"
   ]
  },
  {
   "cell_type": "markdown",
   "id": "4696d3c0-6eb3-4bf6-9abb-efa196ae4e76",
   "metadata": {},
   "source": [
    "В среднем жилая площадь составляет 13% от общей площади  \n",
    "***"
   ]
  },
  {
   "cell_type": "markdown",
   "id": "bb1889c8-4ad9-4e6c-9de2-e9f01f052471",
   "metadata": {},
   "source": [
    "### Задание 3.3"
   ]
  },
  {
   "cell_type": "markdown",
   "id": "f9bfb4bc-4faf-4936-be26-8cd8614b7553",
   "metadata": {},
   "source": [
    " Как много домов с разными этажами в данных?"
   ]
  },
  {
   "cell_type": "code",
   "execution_count": 30,
   "id": "4fb57eba-630e-4f00-a2dd-b068cb9b7aca",
   "metadata": {},
   "outputs": [
    {
     "data": {
      "text/plain": [
       "floors\n",
       "1.0    10680\n",
       "2.0     8241\n",
       "1.5     1910\n",
       "3.0      613\n",
       "2.5      161\n",
       "3.5        8\n",
       "Name: count, dtype: int64"
      ]
     },
     "execution_count": 30,
     "metadata": {},
     "output_type": "execute_result"
    }
   ],
   "source": [
    "df[\"floors\"].value_counts()"
   ]
  },
  {
   "cell_type": "markdown",
   "id": "10d681c1-42a6-4ce2-8b77-c27179d64da7",
   "metadata": {},
   "source": [
    "В данных:  \n",
    "- Дома с 1 этажом - 10680\n",
    "- Дома с 1.5 этажами - 1910\n",
    "- Дома с 2 этажами - 8241\n",
    "- Дома с 2.5 этажами - 161\n",
    "- Дома с 3 этажами - 613\n",
    "- Дома с 3.5 этажами - 8\n",
    "***"
   ]
  },
  {
   "cell_type": "markdown",
   "id": "90f71bda-f999-4791-8f29-a2106e47b7f9",
   "metadata": {},
   "source": [
    "### Задание 3.4"
   ]
  },
  {
   "cell_type": "markdown",
   "id": "e066f738-145e-4ad8-b56b-820638c1bad3",
   "metadata": {},
   "source": [
    "Насколько хорошие состояния у домов в данных?"
   ]
  },
  {
   "cell_type": "code",
   "execution_count": 31,
   "id": "a6cc1525-70ca-4451-aed4-6c79bb47cb94",
   "metadata": {},
   "outputs": [
    {
     "data": {
      "text/plain": [
       "3.4094295100171195"
      ]
     },
     "execution_count": 31,
     "metadata": {},
     "output_type": "execute_result"
    }
   ],
   "source": [
    "df[\"condition\"].mean()"
   ]
  },
  {
   "cell_type": "markdown",
   "id": "12c883bc-8a4b-4bd1-9fab-cbeec642fa12",
   "metadata": {},
   "source": [
    "Состояние домов в среднем оценивается на 3.4 пунка в диапазоне от 0 до 5  \n",
    "***"
   ]
  },
  {
   "cell_type": "markdown",
   "id": "60705e10-3335-4e0f-9fbe-950d6e586d63",
   "metadata": {},
   "source": [
    "### Задание 3.5"
   ]
  },
  {
   "cell_type": "markdown",
   "id": "eba9b233-00a2-47e8-a03e-e014f33c8288",
   "metadata": {},
   "source": [
    "Найдите года, когда построили первый дом, когда построили последний дом в даных?"
   ]
  },
  {
   "cell_type": "code",
   "execution_count": 32,
   "id": "c1265760-7ac9-49cd-b5cf-1a9c6e08b0cb",
   "metadata": {},
   "outputs": [
    {
     "data": {
      "text/plain": [
       "(1900, 2015)"
      ]
     },
     "execution_count": 32,
     "metadata": {},
     "output_type": "execute_result"
    }
   ],
   "source": [
    "df[\"yr_built\"].min(), df[\"yr_built\"].max()"
   ]
  },
  {
   "cell_type": "markdown",
   "id": "862c2b60-e35c-4213-9889-d35a2059a0b2",
   "metadata": {},
   "source": [
    "Год постройки самого старого дома 1900  \n",
    "Год постройки самого молодого дома 2015  \n",
    "***"
   ]
  },
  {
   "cell_type": "markdown",
   "id": "24dca08c-2b19-4fc2-8462-c59a18240314",
   "metadata": {},
   "source": [
    "## Задание 4"
   ]
  },
  {
   "cell_type": "markdown",
   "id": "4c15c053-26e0-4d20-b206-70e8fe9e427f",
   "metadata": {},
   "source": [
    "### Задание 4.1\n"
   ]
  },
  {
   "cell_type": "markdown",
   "id": "d7749a0d-34f3-4457-bff2-cd03447b5a0f",
   "metadata": {},
   "source": [
    "Сколько в среднем стоят дома, у которых 2 спальни?"
   ]
  },
  {
   "cell_type": "code",
   "execution_count": 33,
   "id": "d7f88f54-546f-4deb-af20-4ce74d41b245",
   "metadata": {},
   "outputs": [
    {
     "data": {
      "text/plain": [
       "401372.681884058"
      ]
     },
     "execution_count": 33,
     "metadata": {},
     "output_type": "execute_result"
    }
   ],
   "source": [
    "df [df[\"bedrooms\"]== 2][\"price\"].mean()"
   ]
  },
  {
   "cell_type": "markdown",
   "id": "ac0107ac-c3e1-4154-b237-d7e59ba871cb",
   "metadata": {},
   "source": [
    "Дома с 2-мя спальнями в среднем стоят **401372**  \n",
    "***"
   ]
  },
  {
   "cell_type": "markdown",
   "id": "2a9dfc4d-8f73-43bf-b2b3-55442c182509",
   "metadata": {},
   "source": [
    "### Задание 4.2"
   ]
  },
  {
   "cell_type": "markdown",
   "id": "d0649b90-b4e4-42d6-ba78-8b5741d63233",
   "metadata": {},
   "source": [
    "Какая в среднем общая площадь домов, у которых стоимость больше 600 000?"
   ]
  },
  {
   "cell_type": "code",
   "execution_count": 34,
   "id": "782f13bd-d942-4682-b5aa-43a4e3030997",
   "metadata": {},
   "outputs": [
    {
     "data": {
      "text/plain": [
       "15106.967565816869"
      ]
     },
     "execution_count": 34,
     "metadata": {},
     "output_type": "execute_result"
    }
   ],
   "source": [
    "df [df[\"price\"] > 60000][\"sqft_lot\"].mean()"
   ]
  },
  {
   "cell_type": "markdown",
   "id": "0361c8e2-1aea-438b-ac5a-dc82b8069ae9",
   "metadata": {},
   "source": [
    "Средняя общая площадь домов, у которых стоимость больше 600 000 равна **15106**  \n",
    "***"
   ]
  },
  {
   "cell_type": "markdown",
   "id": "c2d2de8c-56db-4ba7-84d0-98fa31f398f5",
   "metadata": {},
   "source": [
    "### Задание 4.3"
   ]
  },
  {
   "cell_type": "markdown",
   "id": "c1f4e714-2575-4fb3-a6bf-c0b29ee08366",
   "metadata": {},
   "source": [
    "Как много домов коснулся ремонт?"
   ]
  },
  {
   "cell_type": "code",
   "execution_count": 40,
   "id": "b87cf0d1-b561-4b3e-9273-d8ee115e4d26",
   "metadata": {},
   "outputs": [
    {
     "data": {
      "text/plain": [
       "914"
      ]
     },
     "execution_count": 40,
     "metadata": {},
     "output_type": "execute_result"
    }
   ],
   "source": [
    "df [df[\"yr_renovated\"] != 0].shape[0]"
   ]
  },
  {
   "cell_type": "markdown",
   "id": "158813fb-1d07-40da-89ce-42743e27bdb7",
   "metadata": {},
   "source": [
    "**914** домов коснулся ремонт  \n",
    "***"
   ]
  },
  {
   "cell_type": "markdown",
   "id": "c12f6cb2-501e-4e28-9593-60d919320c1b",
   "metadata": {},
   "source": [
    "### Задание 4.4"
   ]
  },
  {
   "cell_type": "markdown",
   "id": "050057bd-2735-4df8-8cfe-395231dd2d34",
   "metadata": {},
   "source": [
    "Насколько в среднем стоимость домов с оценкой grade домов выше 10 отличается от стоимости домов с оценкой grade меньше 4?"
   ]
  },
  {
   "cell_type": "code",
   "execution_count": 41,
   "id": "fac86f5a-820b-4aae-b7ab-b47a7c123a38",
   "metadata": {},
   "outputs": [
    {
     "data": {
      "text/plain": [
       "1488885.1175298805"
      ]
     },
     "execution_count": 41,
     "metadata": {},
     "output_type": "execute_result"
    }
   ],
   "source": [
    "df [df[\"grade\"] > 10][\"price\"].mean()- df [df[\"grade\"] < 4][\"price\"].mean()"
   ]
  },
  {
   "cell_type": "markdown",
   "id": "9b792fb6-f4e9-4054-bf49-078c0d59b35a",
   "metadata": {},
   "source": [
    "Стоимость домов с оценкой grade домов выше 10 отличается от стоимости домов с оценкой grade меньше 4 в среднем на **1488885**  \n",
    "***"
   ]
  },
  {
   "cell_type": "markdown",
   "id": "48518901-fcf8-442f-8e41-1317a8d0abb6",
   "metadata": {},
   "source": [
    "## Задание 5"
   ]
  },
  {
   "cell_type": "markdown",
   "id": "04e05062-84d1-4e75-aa22-2a9e00d59f42",
   "metadata": {},
   "source": [
    "### Задание 5.1"
   ]
  },
  {
   "cell_type": "markdown",
   "id": "1df4d3c3-880c-4553-adf7-e11fe740a0ba",
   "metadata": {},
   "source": [
    " Выберите дом клиенту  \n",
    " Клиент хочет дом с видом на набережную, как минимум с тремя ванными и с подвалом. Сколько вариантов есть у клиента? "
   ]
  },
  {
   "cell_type": "code",
   "execution_count": 9,
   "id": "31e6e301-d1fd-4487-a9a6-968447f86d1a",
   "metadata": {},
   "outputs": [
    {
     "data": {
      "text/plain": [
       "19"
      ]
     },
     "execution_count": 9,
     "metadata": {},
     "output_type": "execute_result"
    }
   ],
   "source": [
    "df[(df[\"waterfront\"] == 1) & (df[\"bedrooms\"] >= 3) & (df[\"floors\"]*10%10 == 5)].shape[0]"
   ]
  },
  {
   "cell_type": "markdown",
   "id": "0edaf22e-fd24-4a38-bd28-d78cca7847aa",
   "metadata": {},
   "source": [
    "У клиента есть **19** вариантов.  \n",
    "***"
   ]
  },
  {
   "cell_type": "markdown",
   "id": "eadbe3d5-4ee2-4f5c-a918-8171ffa11af9",
   "metadata": {},
   "source": [
    "### Задание 5.2"
   ]
  },
  {
   "cell_type": "markdown",
   "id": "2d0b9697-a012-423a-af93-88b0d6aa5968",
   "metadata": {},
   "source": [
    "Выберите дом клиенту  \n",
    "Клиент хочет дом либо с очень красивым видом из окна, либо с видом на набережную, в очень хорошем состоянии и год постройки не меньше 1980 года. В какой ценовом диапазоне будут дома?"
   ]
  },
  {
   "cell_type": "code",
   "execution_count": 10,
   "id": "432f7275-35f8-4f87-b63b-b2881aff4162",
   "metadata": {},
   "outputs": [],
   "source": [
    "new_df = df[((df [\"view\"] > 3) | (df[\"waterfront\"] == 1)) & (df[\"condition\"] > 3) & (df[\"yr_built\"] >= 1980)]"
   ]
  },
  {
   "cell_type": "code",
   "execution_count": 12,
   "id": "ae82cc6f-c033-4631-9f73-abc97608ca59",
   "metadata": {},
   "outputs": [
    {
     "data": {
      "text/plain": [
       "(705000.0, 5300000.0)"
      ]
     },
     "execution_count": 12,
     "metadata": {},
     "output_type": "execute_result"
    }
   ],
   "source": [
    "new_df[\"price\"].min(), new_df[\"price\"].max()"
   ]
  },
  {
   "cell_type": "markdown",
   "id": "7346f470-df6b-4dc0-a849-1265076efb51",
   "metadata": {},
   "source": [
    "Ценовой диапазон домов подходящих под данный запрос от **705000** до **5300000**.  \n",
    "***"
   ]
  },
  {
   "cell_type": "markdown",
   "id": "7330fcc0-24ec-4709-9ba4-ab0d19b14765",
   "metadata": {},
   "source": [
    "### Задание 5.3"
   ]
  },
  {
   "cell_type": "markdown",
   "id": "3642bc53-8e2e-4666-9533-bfa3d73bde56",
   "metadata": {},
   "source": [
    "Выберите дом клиенту  \n",
    "Клиент хочет дом без подвала, с двумя этажами, стоимостью до 150000. Какая оценка по состоянию у таких домов в среднем?"
   ]
  },
  {
   "cell_type": "code",
   "execution_count": 14,
   "id": "66dd2285-8864-4e90-a4f3-b0153fd90a10",
   "metadata": {},
   "outputs": [
    {
     "data": {
      "text/plain": [
       "2.8333333333333335"
      ]
     },
     "execution_count": 14,
     "metadata": {},
     "output_type": "execute_result"
    }
   ],
   "source": [
    "df[(df[\"floors\"]*10%10 == 0) & (df[\"floors\"] == 2) & (df[\"price\"] < 150000)][\"condition\"].mean()"
   ]
  },
  {
   "cell_type": "markdown",
   "id": "6c45b22d-5281-48ce-9f32-c45e21995ccb",
   "metadata": {},
   "source": [
    "В среднем состояние домов, подходящих под данный запрос, будет оцениваться в **2.83**.  \n",
    "***"
   ]
  },
  {
   "cell_type": "code",
   "execution_count": null,
   "id": "231229ec-fd71-4fae-8a0c-6db634e8b75e",
   "metadata": {},
   "outputs": [],
   "source": []
  }
 ],
 "metadata": {
  "kernelspec": {
   "display_name": "Python 3 (ipykernel)",
   "language": "python",
   "name": "python3"
  },
  "language_info": {
   "codemirror_mode": {
    "name": "ipython",
    "version": 3
   },
   "file_extension": ".py",
   "mimetype": "text/x-python",
   "name": "python",
   "nbconvert_exporter": "python",
   "pygments_lexer": "ipython3",
   "version": "3.10.11"
  }
 },
 "nbformat": 4,
 "nbformat_minor": 5
}
